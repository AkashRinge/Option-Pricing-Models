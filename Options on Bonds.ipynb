{
 "cells": [
  {
   "cell_type": "code",
   "execution_count": 190,
   "id": "c702c20e",
   "metadata": {},
   "outputs": [],
   "source": [
    "import pandas as pd\n",
    "import numpy as np\n",
    "import scipy\n",
    "from scipy.stats import norm\n",
    "from scipy.linalg import solve_banded\n",
    "from scipy.linalg import solve"
   ]
  },
  {
   "cell_type": "markdown",
   "id": "7ef8b88b",
   "metadata": {},
   "source": [
    "### Question 1"
   ]
  },
  {
   "cell_type": "code",
   "execution_count": 234,
   "id": "b6d61d50",
   "metadata": {},
   "outputs": [],
   "source": [
    "# This function uses the vasicek model and calculates the pathwise discount rates using which we need to find bond price\n",
    "def vasicek_model(T, dt, r0, sigma, k, r_mean):\n",
    "    N = int(T/dt)\n",
    "    dW = np.sqrt(dt) * np.random.standard_normal(N)\n",
    "\n",
    "    # Create an array to store the interest rates\n",
    "    rt = np.zeros(N+1)\n",
    "    rt[0] = r0\n",
    "\n",
    "    # Monte Carlo simulation\n",
    "    for t in range(1, N+1):\n",
    "        rt[t] = rt[t-1] + k * (r_mean - rt[t-1]) * dt + sigma * dW[t-1]\n",
    "    \n",
    "    return rt\n",
    "\n",
    "# This function calculates the price of the bond using the pathwise rates, coupons and face value\n",
    "def bond_price_calc(dt, rt, ct, face, t, T):\n",
    "    \n",
    "    # will be used in calculating the discount factor\n",
    "    rt_cumsum = np.cumsum(rt)\n",
    "    bond_price = 0\n",
    "    \n",
    "    n = int(t/dt)\n",
    "    N = int(T/dt) - 1\n",
    "    \n",
    "    for i in range(N, -1, n-1):\n",
    "        if ct[i] > 0:\n",
    "            disc_f = np.exp(-rt_cumsum[i] * dt)\n",
    "            bond_price = bond_price + disc_f * ct[i]\n",
    "    \n",
    "    bond_price += (np.exp(-(rt_cumsum[N] - rt_cumsum[n]) * dt) * face)\n",
    "    return bond_price\n",
    "\n",
    "# This function calculates call option price for the given discount rate path. Here nth elements corresponds to the maturity of call option i.e n*dt  = maturity\n",
    "def call_option_calc(t, T, S, dt, rt, face, strike):\n",
    "    rt_cumsum = np.cumsum(rt)\n",
    "    n1 = int(t/dt)\n",
    "    n2 = int(T/dt)\n",
    "    N = int(S/dt)\n",
    "    \n",
    "    bond_price = (np.exp(-(rt_cumsum[N] - rt_cumsum[n2]) * dt) * face)\n",
    "    call_price = max((bond_price - strike), 0) * np.exp(-(rt_cumsum[n2] - rt_cumsum[n1]) * dt)\n",
    "    return call_price"
   ]
  },
  {
   "cell_type": "markdown",
   "id": "014be8ed",
   "metadata": {},
   "source": [
    "#### (a)  ZC Bond $ \\quad r_0 = 5\\% \\quad \\sigma = 10\\% \\quad \\kappa = 0.82 \\quad \\overline{r} = 0.05 \\quad Face = 1000 \\quad T = 0.5 years $"
   ]
  },
  {
   "cell_type": "code",
   "execution_count": 228,
   "id": "ff69905a",
   "metadata": {},
   "outputs": [
    {
     "data": {
      "text/plain": [
       "975.8895476571282"
      ]
     },
     "execution_count": 228,
     "metadata": {},
     "output_type": "execute_result"
    }
   ],
   "source": [
    "r0 = 0.05\n",
    "r_mean = 0.05\n",
    "sigma = 0.1\n",
    "k = 0.82\n",
    "F = 1000\n",
    "T = 0.5\n",
    "dt = 1/252\n",
    "N = int(T/dt)\n",
    "bond_prices = np.zeros(10000)\n",
    "ct = np.zeros(10000)\n",
    "\n",
    "for i in range(10000):\n",
    "    rt = vasicek_model(T, dt, r0, sigma, k, r_mean)\n",
    "    bond_prices[i] = bond_price_calc(dt, rt, ct, F, 0, T)\n",
    "\n",
    "bond_prices.mean()"
   ]
  },
  {
   "cell_type": "markdown",
   "id": "928d1c85",
   "metadata": {},
   "source": [
    "#### (b) Semi Annual Coupon Bond $ \\quad r_0 = 5\\% \\quad \\sigma = 10\\% \\quad \\kappa = 0.82 \\quad \\overline{r} = 0.05 \\quad Face = 1000 \\quad T = 4 years \\quad C = 30 $"
   ]
  },
  {
   "cell_type": "code",
   "execution_count": 330,
   "id": "dfb6e829",
   "metadata": {},
   "outputs": [
    {
     "data": {
      "text/plain": [
       "1039.5504319073561"
      ]
     },
     "execution_count": 330,
     "metadata": {},
     "output_type": "execute_result"
    }
   ],
   "source": [
    "r0 = 0.05\n",
    "r_mean = 0.05\n",
    "sigma = 0.1\n",
    "k = 0.82\n",
    "F = 1000\n",
    "T = 4\n",
    "dt = 1/252\n",
    "N = int(T/dt)\n",
    "bond_prices = np.zeros(1000)\n",
    "\n",
    "semi_annual = int(0.5/dt)\n",
    "ct = np.zeros(N)\n",
    "ct[::semi_annual] = 30\n",
    "\n",
    "for i in range(1000):\n",
    "    rt = vasicek_model(T, dt, r0, sigma, k, r_mean)\n",
    "    bond_prices[i] = bond_price_calc(dt, rt, ct, F, 0, T)\n",
    "    \n",
    "bond_prices.mean()"
   ]
  },
  {
   "cell_type": "markdown",
   "id": "9f0e5486",
   "metadata": {},
   "source": [
    "#### (c) Call option on ZC bond with $ K = 980 \\quad Expiry = 0.25 $"
   ]
  },
  {
   "cell_type": "code",
   "execution_count": 331,
   "id": "449952cb",
   "metadata": {},
   "outputs": [
    {
     "data": {
      "text/plain": [
       "8.595094530228053"
      ]
     },
     "execution_count": 331,
     "metadata": {},
     "output_type": "execute_result"
    }
   ],
   "source": [
    "r0 = 0.05\n",
    "r_mean = 0.05\n",
    "sigma = 0.1\n",
    "k = 0.82\n",
    "F = 1000\n",
    "T = 0.5\n",
    "dt = 1/252\n",
    "N = int(T/dt)\n",
    "ct = np.zeros(10000)\n",
    "\n",
    "K = 980\n",
    "call_mat = 0.25\n",
    "n = int(call_mat/dt)\n",
    "T_t = T-call_mat\n",
    "\n",
    "B = 1/k * (1 - np.exp(-k * T_t))\n",
    "A = np.exp((r_mean - (sigma**2 / (2 * k**2))) * (B - T_t) - ((sigma**2 / (4 * k)) * B**2))\n",
    "\n",
    "call_options = np.zeros(10000)\n",
    "\n",
    "for i in range(10000):\n",
    "    rt = vasicek_model(T, dt, r0, sigma, k, r_mean)\n",
    "    bond_price = F * A * np.exp(-B * rt[n])\n",
    "    call_option1 = (bond_price - K) * np.exp(-np.cumsum(rt)[n] * dt)\n",
    "    call_option2 = call_option_calc(0, call_mat, T, dt, rt, F, K)\n",
    "    call_options[i] = (call_option1 + call_option2) * 0.5 # control variate\n",
    "\n",
    "call_options.mean()"
   ]
  },
  {
   "cell_type": "markdown",
   "id": "e5407494",
   "metadata": {},
   "source": [
    "#### (d) Call option for Coupon Bond with $ K = 980 \\quad Expiry = 0.25 $"
   ]
  },
  {
   "cell_type": "code",
   "execution_count": 406,
   "id": "fad24503",
   "metadata": {},
   "outputs": [
    {
     "data": {
      "text/plain": [
       "94.97931619051538"
      ]
     },
     "execution_count": 406,
     "metadata": {},
     "output_type": "execute_result"
    }
   ],
   "source": [
    "r0 = 0.05\n",
    "r_mean = 0.05\n",
    "sigma = 0.1\n",
    "k = 0.82\n",
    "F = 1000\n",
    "T = 4\n",
    "dt = 1/252\n",
    "N = int(T/dt)\n",
    "\n",
    "semi_annual = int(0.5/dt)\n",
    "ct = np.zeros(N)\n",
    "ct[::semi_annual] = 30\n",
    "ct[0] = 0\n",
    "\n",
    "option_prices = np.zeros(10000)\n",
    "\n",
    "for i in range(10000):\n",
    "    rt = vasicek_model(T, dt, r0, sigma, k, r_mean)\n",
    "    rt_cumsum = np.cumsum(rt)\n",
    "    positive_ct_indices = np.where(ct > 0)[0]\n",
    "    FV = F + np.sum(ct[positive_ct_indices] * np.exp((rt_cumsum[-1] - rt_cumsum[positive_ct_indices]) * dt))\n",
    "    option_prices[i] = call_option_calc(0, 0.25, T, dt, rt, FV, 980)\n",
    "option_prices.mean()"
   ]
  },
  {
   "cell_type": "markdown",
   "id": "c94bc301",
   "metadata": {},
   "source": [
    "#### (e) Call option for Coupon Bond with $ K = 980 \\quad Expiry = 0.25 $ using explicit formula"
   ]
  },
  {
   "cell_type": "code",
   "execution_count": 410,
   "id": "5918ff86",
   "metadata": {},
   "outputs": [
    {
     "data": {
      "text/plain": [
       "97.35273129679005"
      ]
     },
     "execution_count": 410,
     "metadata": {},
     "output_type": "execute_result"
    }
   ],
   "source": [
    "def bond_price(rates, dt, coupons, F):\n",
    "    discount_factors = np.exp(-rates*dt)\n",
    "    return np.sum(coupons*discount_factors) + F*discount_factors[-1]\n",
    "\n",
    "def option_price(expiry, T, dt, K, r0, r_mean, k, sigma, F, cash_flows):\n",
    "    num_simulations = 1000\n",
    "    total_option_prices = []\n",
    "    t = dt * np.where(cash_flows > 0)[0]\n",
    "    \n",
    "    for i in range(num_simulations):\n",
    "        rt = vasicek_model(T, dt, r0, r_mean, k, sigma)\n",
    "        rt_cumsum = np.cumsum(rt)\n",
    "        df = np.zeros(len(t))\n",
    "        for j in range(len(t)):\n",
    "            df[j] = np.exp(-rt_cumsum[int(t[j]/dt)] * dt)\n",
    "        df_expiry = np.exp(-rt_cumsum[int(expiry/dt)] * dt)\n",
    "        cf = cash_flows[np.where(cash_flows > 0)]\n",
    "        sigma_p = sigma * (1 - np.exp(-k*(t - expiry))) / k * np.sqrt((1 - np.exp(-2*k*expiry)) / (2*k))\n",
    "        d1 = (np.log(cf * df / (K * df_expiry)) + sigma_p**2 / 2) / sigma_p\n",
    "        d2 = d1 - sigma_p\n",
    "        option_prices = cf * df * norm.cdf(d1) - K * df_expiry * norm.cdf(d2)\n",
    "        total_option_prices.append(np.sum(cf * option_prices))\n",
    "    return np.mean(total_option_prices)\n",
    "\n",
    "T = 4\n",
    "dt = 1/252\n",
    "N = int(T/dt)\n",
    "r0 = 0.05\n",
    "r_mean = 0.05\n",
    "k = 0.82\n",
    "sigma = 0.1\n",
    "F = 1000\n",
    "K = 980\n",
    "\n",
    "semi_annual = int(0.5/dt)\n",
    "coupons = np.zeros(N + 1)\n",
    "coupons[::semi_annual] = 30\n",
    "coupons[0] = 0\n",
    "coupons[1008] += F\n",
    "\n",
    "call_option_price = option_price(0.25, T, dt, K, r0, r_mean, k, sigma, F, coupons)\n",
    "call_option_price"
   ]
  },
  {
   "cell_type": "markdown",
   "id": "d3c3d9bb",
   "metadata": {},
   "source": [
    "### Question 2"
   ]
  },
  {
   "cell_type": "code",
   "execution_count": 245,
   "id": "8c81edb4",
   "metadata": {},
   "outputs": [],
   "source": [
    "# This function uses the CIR model and calculates the pathwise discount rates using which we need to find bond price\n",
    "def cir_model(T, dt, r0, sigma, k, r_mean):\n",
    "    N = int(T/dt)\n",
    "    dW = np.sqrt(dt) * np.random.standard_normal(N)\n",
    "\n",
    "    # Create an array to store the interest rates\n",
    "    rt = np.zeros(N+1)\n",
    "    rt[0] = r0\n",
    "\n",
    "    # Monte Carlo simulation\n",
    "    for t in range(1, N+1):\n",
    "        rt[t] = rt[t-1] + k * (r_mean - rt[t-1]) * dt + sigma * np.sqrt(rt[t-1]) * dW[t-1]\n",
    "        if rt[t] < 0:\n",
    "            rt[t] = 0\n",
    "    \n",
    "    return rt"
   ]
  },
  {
   "cell_type": "markdown",
   "id": "73480f0a",
   "metadata": {},
   "source": [
    "#### (a)  ZC Bond Call Option $ \\quad r_0 = 5\\% \\quad \\sigma = 12\\% \\quad \\kappa = 0.92 \\quad \\overline{r} = 0.055 \\quad Face = 1000 \\quad Bond Maturity = 1 years \\quad K = 980 \\quad Expiry (T) = 0.5 $"
   ]
  },
  {
   "cell_type": "code",
   "execution_count": 402,
   "id": "44e77f51",
   "metadata": {},
   "outputs": [
    {
     "data": {
      "text/plain": [
       "0.3780133430746902"
      ]
     },
     "execution_count": 402,
     "metadata": {},
     "output_type": "execute_result"
    }
   ],
   "source": [
    "r0 = 0.05\n",
    "r_mean = 0.055\n",
    "sigma = 0.12\n",
    "k = 0.92\n",
    "F = 1000\n",
    "S = 1.0 # bond maturity\n",
    "dt = 1/252\n",
    "ct = np.zeros(1000)\n",
    "\n",
    "K = 980\n",
    "T = 0.5 # call expiry\n",
    "M = int(T/dt)\n",
    "\n",
    "call_options = np.zeros(1000)\n",
    "for i in range(1000):\n",
    "    rt = cir_model(S, dt, r0, sigma, k, r_mean)\n",
    "    call_options[i] = call_option_calc(0, T, S, dt, rt, F, K)\n",
    "call_options.mean()"
   ]
  },
  {
   "cell_type": "markdown",
   "id": "153b07a6",
   "metadata": {},
   "source": [
    "####  (b) ZC Bond Call Option using IFD $ \\quad r_0 = 5\\% \\quad \\sigma = 12\\% \\quad \\kappa = 0.92 \\quad \\overline{r} = 0.055 \\quad Face = 1000 \\quad S = 1 years \\quad K = 980 \\quad Expiry (T) = 0.5 $"
   ]
  },
  {
   "cell_type": "code",
   "execution_count": 403,
   "id": "5038a18b",
   "metadata": {},
   "outputs": [
    {
     "data": {
      "text/plain": [
       "0.4120747264274198"
      ]
     },
     "execution_count": 403,
     "metadata": {},
     "output_type": "execute_result"
    }
   ],
   "source": [
    "# Parameters\n",
    "N = 1000  \n",
    "M = 126\n",
    "S = 1.0  # bond maturity\n",
    "T = 0.5\n",
    "r0 = 0.05 \n",
    "sigma = 0.12  # volatility\n",
    "r_mean = 0.055 # long-term mean rate\n",
    "r_max =  r_mean + (10 * sigma * r_mean)  # maximum rate\n",
    "r_min = 0.0  # minimum rate\n",
    "k = 0.92  # mean reversion speed\n",
    "F = 1000\n",
    "K = 980  # strike price\n",
    "\n",
    "# Grid setup\n",
    "dt = T / M  # time step\n",
    "dr = (r_max - r_min) / N  # rate step\n",
    "t_grid = np.linspace(0, T, M + 1)  # time grid\n",
    "r_grid = np.linspace(r_min, r_max, N + 1)  # rate grid\n",
    "\n",
    "# Initialize option price matrix\n",
    "C = np.zeros((M + 1, N + 1))\n",
    "\n",
    "# Terminal condition\n",
    "C[-1, :] = np.maximum(F * np.exp(-r_grid * (S - T)) - K, 0)\n",
    "\n",
    "# Matrix coefficients\n",
    "j = np.arange(0, N+1)\n",
    "Pu = -0.5 * dt * (j*sigma**2/dr + k*r_mean/dr - (k*j)/2)\n",
    "Pm = dt * (1/dt + j*sigma**2/dr + r_grid)\n",
    "Pd = -0.5 * dt * (j*sigma**2/dr - k*r_mean/dr + (k*j)/2)\n",
    "\n",
    "for i in reversed(range(M)):\n",
    "    # Vector B\n",
    "    B = np.zeros(N+1)\n",
    "    B[0] = Pu[N] * C[i, N]  # boundary condition\n",
    "    B[-1] = Pd[1] * C[i, 0]  # boundary condition\n",
    "\n",
    "    A_upper = np.zeros(N+1)\n",
    "    A_middle = np.zeros(N+1)\n",
    "    A_lower = np.zeros(N+1)\n",
    "    \n",
    "    A_upper[1:] = Pu[1:]\n",
    "    A_middle = Pm\n",
    "    A_lower[:-1] = Pd[:-1]\n",
    "    \n",
    "    A_banded = np.vstack((A_upper, A_middle, A_lower))\n",
    "\n",
    "    # Solve the system\n",
    "    C[i, :] = solve_banded((1, 1), A_banded, C[i+1, :] + B)\n",
    "    C[i, 0] = F - K  # boundary condition\n",
    "    C[i, -1] = 0  # boundary condition\n",
    "\n",
    "# Price of the call option at time 0\n",
    "C[0, int(r0/dr)] "
   ]
  },
  {
   "cell_type": "markdown",
   "id": "8e3ecdb2",
   "metadata": {},
   "source": [
    "#### (c) Calculating Call option price using explicit formula for CIR bonds"
   ]
  },
  {
   "cell_type": "code",
   "execution_count": 397,
   "id": "c83e5818",
   "metadata": {},
   "outputs": [
    {
     "data": {
      "text/plain": [
       "0.44109590009085803"
      ]
     },
     "execution_count": 397,
     "metadata": {},
     "output_type": "execute_result"
    }
   ],
   "source": [
    "# Parameters\n",
    "N = 1000  \n",
    "M = 126\n",
    "S = 1.0  # bond maturity\n",
    "T = 0.5\n",
    "dt = T / M  # time step\n",
    "r0 = 0.05 \n",
    "sigma = 0.12  # volatility\n",
    "r_mean = 0.055 # long-term mean rate\n",
    "k = 0.92  # mean reversion speed\n",
    "F = 1000\n",
    "K = 980  # strike price\n",
    "\n",
    "h1 = np.sqrt(k**2 + 2*sigma**2)\n",
    "h2 = (k+h1)/2\n",
    "h3 = (2*k*r_mean)/sigma**2\n",
    "T_t = S-T\n",
    "\n",
    "A_num = h1 * np.exp(h2 * T_t)\n",
    "A_denom = h2 * (np.exp(h1 * T_t)-1) + h1\n",
    "A = (A_num/A_denom) ** h3\n",
    "\n",
    "B_num = (np.exp(h1 * T_t)-1)\n",
    "B_denom = A_denom\n",
    "B = B_num/B_denom\n",
    "\n",
    "option_prices = np.zeros(1000)\n",
    "for i in range(1000):\n",
    "    rt = cir_model(S, dt, r0, sigma, k, r_mean)\n",
    "    bond_price = F * A * np.exp(-B * rt[M])\n",
    "    option_prices[i] = max((bond_price - K), 0) * np.exp(-np.cumsum(rt)[M] * dt)\n",
    "    \n",
    "option_prices.mean()"
   ]
  },
  {
   "cell_type": "markdown",
   "id": "f01c6cda",
   "metadata": {},
   "source": [
    "### Question 3"
   ]
  },
  {
   "cell_type": "code",
   "execution_count": 241,
   "id": "464219b2",
   "metadata": {},
   "outputs": [],
   "source": [
    "# This function uses the G2++ model and calculates the pathwise discount rates using which we need to find bond price\n",
    "def g2_model(T, dt, a, sigma, b, eta, phi, r0):\n",
    "    N = int(T/dt)\n",
    "    dW1 = np.sqrt(dt) * np.random.standard_normal(N)\n",
    "    dW2 = rho * dW1 + np.sqrt(1 - rho**2) * np.random.standard_normal(N) * np.sqrt(dt)\n",
    "    \n",
    "    x = np.zeros(N + 1)\n",
    "    y = np.zeros(N + 1)\n",
    "    r = np.zeros(N + 1)\n",
    "    r[0] = r0\n",
    "    \n",
    "    for i in range(1, N+1):\n",
    "        dx = -a * x[i-1] * dt + sigma * dW1[i-1]\n",
    "        dy = -b * y[i-1] * dt + eta * dW2[i-1]\n",
    "        x[i] = x[i-1] + dx\n",
    "        y[i] = y[i-1] + dy\n",
    "        r[i] = x[i]+y[i]+phi\n",
    "    \n",
    "    return r"
   ]
  },
  {
   "cell_type": "code",
   "execution_count": 395,
   "id": "7c580769",
   "metadata": {},
   "outputs": [],
   "source": [
    "# Parameters\n",
    "T = 0.5  # Put option expiration\n",
    "S = 1.0  # Bond maturity\n",
    "r0 = 0.03  # Initial interest rate\n",
    "phi = 0.03  # Constant term\n",
    "a = 0.1\n",
    "b = 0.3\n",
    "sigma = 0.03\n",
    "eta = 0.08\n",
    "rho = 0.7\n",
    "K = 950  # Strike price\n",
    "F = 1000  # Face value\n",
    "num_simulations = 10000\n",
    "\n",
    "option_prices = np.zeros(num_simulations)\n",
    "bond_prices_T = np.zeros(num_simulations)\n",
    "bond_prices_S = np.zeros(num_simulations)\n",
    "ct = np.zeros(int(S/dt))\n",
    "\n",
    "for i in range(num_simulations):\n",
    "    rt = g2_model(S, dt, a, sigma, b, eta, phi, r0)\n",
    "    rt_cumsum = np.cumsum(rt)\n",
    "    D_T = (np.exp(-rt_cumsum[int(T/dt)] * dt))\n",
    "    D_ST = (np.exp(-(rt_cumsum[int(S/dt)] - rt_cumsum[int(T/dt)]) * dt))\n",
    "    D_S = (np.exp(-rt_cumsum[int(S/dt)] * dt))\n",
    "\n",
    "    # Compute the European put option price\n",
    "    Put_MC1 = max(K - F * D_ST, 0) * D_T\n",
    "    Put_MC2 = 0.25 * max(K - F * D_S/D_T, 0) * D_T # antithetic variate\n",
    "    option_prices[i] = (Put_MC1 + Put_MC2)/2\n",
    "    bond_prices_T[i] = D_T\n",
    "    bond_prices_S[i] = D_S\n",
    "    \n",
    "Put_MC = option_prices.mean()\n",
    "P_T = bond_prices_T.mean()\n",
    "P_S = bond_prices_S.mean()"
   ]
  },
  {
   "cell_type": "code",
   "execution_count": 396,
   "id": "ef94b694",
   "metadata": {},
   "outputs": [
    {
     "name": "stdout",
     "output_type": "stream",
     "text": [
      "European Put Option price (Monte Carlo): 1.9253005671751882\n",
      "European Put Option price (Explicit Formula): 1.9054888399475942\n"
     ]
    }
   ],
   "source": [
    "# Calculate sigma for the explicit formula\n",
    "sigma_exp = np.sqrt((sigma**2 / (2 * a**3) * (1 - np.exp(-a * (S - T)))**2 * (1 - np.exp(-2 * a * (T))) \n",
    "                     + eta**2 / (2 * b**3) * (1 - np.exp(-b * (S - T)))**2 * (1 - np.exp(-2 * b * (T))) \n",
    "                     + 2 * rho * sigma * eta / (a * b * (a + b)) * (1 - np.exp(-a * (S - T))) * (1 - np.exp(-b * (S - T))) * (1 - np.exp(-(a + b) * (T)))))\n",
    "\n",
    "# Computea the European put option price using the explicit formula\n",
    "d1 = (np.log(K * P_T / (F * P_S)) + sigma_exp**2 / 2) / sigma_exp\n",
    "d2 = d1 - sigma_exp\n",
    "Put_exp = -F * P_S * norm.cdf(d2) + K * P_T * norm.cdf(d1)\n",
    "\n",
    "print(f\"European Put Option price (Monte Carlo): {Put_MC}\")\n",
    "print(f\"European Put Option price (Explicit Formula): {Put_exp}\")"
   ]
  }
 ],
 "metadata": {
  "kernelspec": {
   "display_name": "Python 3 (ipykernel)",
   "language": "python",
   "name": "python3"
  },
  "language_info": {
   "codemirror_mode": {
    "name": "ipython",
    "version": 3
   },
   "file_extension": ".py",
   "mimetype": "text/x-python",
   "name": "python",
   "nbconvert_exporter": "python",
   "pygments_lexer": "ipython3",
   "version": "3.9.16"
  }
 },
 "nbformat": 4,
 "nbformat_minor": 5
}
