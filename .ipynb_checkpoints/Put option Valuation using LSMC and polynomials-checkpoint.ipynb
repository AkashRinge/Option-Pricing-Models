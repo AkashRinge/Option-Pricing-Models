{
 "cells": [
  {
   "cell_type": "code",
   "execution_count": 15,
   "id": "ef5c9d2b",
   "metadata": {},
   "outputs": [],
   "source": [
    "import numpy as np\n",
    "from numpy.polynomial import Laguerre\n",
    "from scipy.stats import norm\n",
    "import warnings\n",
    "# Disable the RankWarning\n",
    "warnings.filterwarnings('ignore', category=np.RankWarning)"
   ]
  },
  {
   "cell_type": "markdown",
   "id": "67892242",
   "metadata": {},
   "source": [
    "#### Parameters for LSMC"
   ]
  },
  {
   "cell_type": "code",
   "execution_count": 16,
   "id": "b5788cd5",
   "metadata": {},
   "outputs": [],
   "source": [
    "# Parameters\n",
    "S0 = 50  # initial stock price\n",
    "K = 50  # strike price\n",
    "r = 0.06  # risk-free rate\n",
    "sigma = 0.3  # volatility\n",
    "T_values = [0.25, 1, 3]  # maturity in years\n",
    "N = 50000  # number of simulated paths for single variate (2 variates it will be 100k)\n",
    "M = int(np.sqrt(N))  # number of time steps"
   ]
  },
  {
   "cell_type": "markdown",
   "id": "e754401f",
   "metadata": {},
   "source": [
    "#### LSMC Algorithm which takes input the polynomial function, and polynomial degree "
   ]
  },
  {
   "cell_type": "code",
   "execution_count": 17,
   "id": "4511c1ff",
   "metadata": {},
   "outputs": [],
   "source": [
    "# Least squares monte carlo algorithm\n",
    "def LSMC(S, K, discount_factor, poly=None, poly_degree=2):\n",
    "    M, N = S.shape[0] - 1, S.shape[1]\n",
    "\n",
    "    # Calculate the payoff\n",
    "    h = np.maximum(K - S[-1], 0)\n",
    "\n",
    "    # LSMC algorithm\n",
    "    for t in range(M - 1, 0, -1):\n",
    "        if poly == 'Laguerre':\n",
    "            # Fit Laguerre polynomial with discount factors as weights\n",
    "            regression = Laguerre.fit(S[t], h * discount_factor, poly_degree)\n",
    "            continuation_value = regression(S[t])\n",
    "        elif poly == 'Hermite':\n",
    "            # Create the matrix of basis functions\n",
    "            hermite_matrix = np.zeros((poly_degree + 1, len(S[t])))\n",
    "            for i in range(poly_degree + 1):\n",
    "                hermite_matrix[i, :] = np.polynomial.hermite_e.hermeval(S[t], [0]*i + [1])\n",
    "            # Solve for the coefficients using least squares with discount factors as weights\n",
    "            regression, _, _, _ = np.linalg.lstsq(hermite_matrix.T, h * discount_factor, rcond=None)\n",
    "            # Evaluate the polynomial\n",
    "            continuation_value = np.polynomial.hermite_e.hermeval(S[t], regression)\n",
    "        else:\n",
    "            # Fit Monomial with discount factors as weights\n",
    "            regression = np.polyfit(S[t], h * discount_factor, poly_degree)\n",
    "            continuation_value = np.polyval(regression, S[t])\n",
    "        \n",
    "        # Determine whether to exercise the option or continue\n",
    "        h = np.where(K - S[t] > continuation_value * discount_factor, K - S[t], h * discount_factor)\n",
    "\n",
    "    # Average the payoffs at the first time step\n",
    "    return np.mean(h)"
   ]
  },
  {
   "cell_type": "markdown",
   "id": "7c32d4f0",
   "metadata": {},
   "source": [
    "#### Evaluate american put using LSMC"
   ]
  },
  {
   "cell_type": "code",
   "execution_count": 18,
   "id": "3ee751ea",
   "metadata": {},
   "outputs": [
    {
     "name": "stdout",
     "output_type": "stream",
     "text": [
      "Degree: 2\n",
      "Method: Laguerre\n",
      "The price of the American put option for T = 0.25 is: 2.644519817806608\n",
      "The price of the American put option for T = 1 is: 4.729015318473335\n",
      "The price of the American put option for T = 3 is: 6.885767464231656\n",
      "\n",
      "Method: Hermite\n",
      "The price of the American put option for T = 0.25 is: 2.644519817806608\n",
      "The price of the American put option for T = 1 is: 4.729015318473335\n",
      "The price of the American put option for T = 3 is: 6.885767464231656\n",
      "\n",
      "Method: Monomial\n",
      "The price of the American put option for T = 0.25 is: 2.644519817806608\n",
      "The price of the American put option for T = 1 is: 4.729015318473335\n",
      "The price of the American put option for T = 3 is: 6.885767464231656\n",
      "\n",
      "Degree: 3\n",
      "Method: Laguerre\n",
      "The price of the American put option for T = 0.25 is: 2.621037410482187\n",
      "The price of the American put option for T = 1 is: 4.732505070102601\n",
      "The price of the American put option for T = 3 is: 6.930667746017918\n",
      "\n",
      "Method: Hermite\n",
      "The price of the American put option for T = 0.25 is: 2.621037410482187\n",
      "The price of the American put option for T = 1 is: 4.732505070102601\n",
      "The price of the American put option for T = 3 is: 6.930667746017918\n",
      "\n",
      "Method: Monomial\n",
      "The price of the American put option for T = 0.25 is: 2.621037410482187\n",
      "The price of the American put option for T = 1 is: 4.732505070102601\n",
      "The price of the American put option for T = 3 is: 6.930667746017918\n",
      "\n",
      "Degree: 4\n",
      "Method: Laguerre\n",
      "The price of the American put option for T = 0.25 is: 2.650523469590811\n",
      "The price of the American put option for T = 1 is: 4.729921814658783\n",
      "The price of the American put option for T = 3 is: 6.939248041736471\n",
      "\n",
      "Method: Hermite\n",
      "The price of the American put option for T = 0.25 is: 2.6502333438072623\n",
      "The price of the American put option for T = 1 is: 4.729997788289204\n",
      "The price of the American put option for T = 3 is: 6.939268762221492\n",
      "\n",
      "Method: Monomial\n",
      "The price of the American put option for T = 0.25 is: 2.650523469590811\n",
      "The price of the American put option for T = 1 is: 4.729921814658783\n",
      "The price of the American put option for T = 3 is: 6.939248041736471\n",
      "\n"
     ]
    }
   ],
   "source": [
    "# Put option estimation\n",
    "def evaluate_american_put(S0, K, r, sigma, T, M, N, poly=None, poly_degree=2):\n",
    "    dt = T / M\n",
    "    discount_factor = np.exp(-r * dt)\n",
    "    np.random.seed(43)\n",
    "    \n",
    "    # Simulate stock price paths\n",
    "    S1 = np.zeros((M + 1, N))\n",
    "    S2 = np.zeros((M + 1, N)) # antithetic variate\n",
    "    \n",
    "    S1[0] = S0\n",
    "    S2[0] = S0\n",
    "    \n",
    "    for t in range(1, M + 1):\n",
    "        w = np.random.standard_normal(size=N)  # the Wiener process\n",
    "        S1[t] = S1[t - 1] * np.exp((r - 0.5 * sigma ** 2) * dt + sigma * np.sqrt(dt) * w)       \n",
    "        S2[t] = S2[t - 1] * np.exp((r - 0.5 * sigma ** 2) * dt + sigma * np.sqrt(dt) * (-w)) #antithetic variate       \n",
    "    \n",
    "    # Calculate the payoff using LSMC algorithm and antithetic variates\n",
    "    payoff1 = LSMC(S1, K, discount_factor, poly, poly_degree)  \n",
    "    payoff2 = LSMC(S2, K, discount_factor, poly, poly_degree)  \n",
    "    \n",
    "    return (payoff1 + payoff2) * 0.5\n",
    "\n",
    "\n",
    "methods = [\"Laguerre\", \"Hermite\", \"Monomial\"]\n",
    "degrees = [2, 3, 4]\n",
    "\n",
    "for degree in degrees:\n",
    "    print(f\"Degree: {degree}\")\n",
    "    for method in methods:\n",
    "        print(f\"Method: {method}\")\n",
    "        # Calculate the prices\n",
    "        for T in T_values:\n",
    "            option_price = evaluate_american_put(S0, K, r, sigma, T, M, N, method, degree)\n",
    "            print(f\"The price of the American put option for T = {T} is: {option_price}\")\n",
    "        print()"
   ]
  },
  {
   "cell_type": "code",
   "execution_count": null,
   "id": "45ad902a",
   "metadata": {},
   "outputs": [],
   "source": [
    "# Standard error estimates\n",
    "n_simulations = 100\n",
    "\n",
    "for degree in degrees:\n",
    "    print(f\"Degree: {degree}\")\n",
    "    for method in methods:\n",
    "        print(f\"Method: {method}\")\n",
    "        # Calculate the prices\n",
    "        for T in T_values:\n",
    "            option_prices = np.zeros(n_simulations)\n",
    "            for i in range(n_simulations):\n",
    "                option_prices[i] = evaluate_american_put(S0, K, r, sigma, T, M, N, method, degree)\n",
    "            mean_price = np.mean(option_prices)\n",
    "            std_err = np.std(option_prices) / np.sqrt(n_simulations)\n",
    "            print(f\"The price of the American put option for T = {T} is: {mean_price} ± {std_err}\")\n",
    "        print()"
   ]
  }
 ],
 "metadata": {
  "kernelspec": {
   "display_name": "Python 3 (ipykernel)",
   "language": "python",
   "name": "python3"
  },
  "language_info": {
   "codemirror_mode": {
    "name": "ipython",
    "version": 3
   },
   "file_extension": ".py",
   "mimetype": "text/x-python",
   "name": "python",
   "nbconvert_exporter": "python",
   "pygments_lexer": "ipython3",
   "version": "3.9.16"
  }
 },
 "nbformat": 4,
 "nbformat_minor": 5
}
